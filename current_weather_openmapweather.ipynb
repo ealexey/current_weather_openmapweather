{
 "cells": [
  {
   "cell_type": "markdown",
   "id": "57abb275",
   "metadata": {},
   "source": [
    "### Program Description\n",
    "\n",
    "The program displays the current weather for a region upon providing zip code and two letters of a country code.\n",
    "This program has two functions. The main function(), has no arguments, prompts for an address and pass it to\n",
    "the key(address) function. The key(address) function parses http://api.openweathermap.org for entered address and\n",
    "return current weather data\"\"\"\n",
    "\n",
    "### Program Usage\n",
    "\n",
    "The program prompts a user to enter a zip code, comma, and two letters of the country code without whitespace. After hitting the ENTER button it displays current weather for the entered region"
   ]
  },
  {
   "cell_type": "code",
   "execution_count": 2,
   "id": "43c89cde",
   "metadata": {},
   "outputs": [
    {
     "data": {
      "text/plain": [
       "{'coord': {'lon': -83.0407, 'lat': 39.9798},\n",
       " 'weather': [{'id': 804,\n",
       "   'main': 'Clouds',\n",
       "   'description': 'overcast clouds',\n",
       "   'icon': '04d'}],\n",
       " 'base': 'stations',\n",
       " 'main': {'temp': 270.76,\n",
       "  'feels_like': 268.96,\n",
       "  'temp_min': 269.09,\n",
       "  'temp_max': 272.41,\n",
       "  'pressure': 1027,\n",
       "  'humidity': 71},\n",
       " 'visibility': 10000,\n",
       " 'wind': {'speed': 1.34, 'deg': 330, 'gust': 0},\n",
       " 'clouds': {'all': 90},\n",
       " 'dt': 1641229661,\n",
       " 'sys': {'type': 2,\n",
       "  'id': 2011192,\n",
       "  'country': 'US',\n",
       "  'sunrise': 1641214445,\n",
       "  'sunset': 1641248337},\n",
       " 'timezone': -18000,\n",
       " 'id': 4509177,\n",
       " 'name': 'Columbus',\n",
       " 'cod': 200}"
      ]
     },
     "execution_count": 2,
     "metadata": {},
     "output_type": "execute_result"
    }
   ],
   "source": [
    "#Checking output of a current weather call for the region with zip: 43212, US\n",
    "import requests\n",
    "api_key=\"13f4bb4da6ef826b2446fb57a46fef8c\"\n",
    "url=\"http://api.openweathermap.org/data/2.5/weather?q=43212,us&APPID=13f4bb4da6ef826b2446fb57a46fef8c\"\n",
    "\n",
    "response=requests.get(url) #serialized json data\n",
    "data=response.json() #desirialized json data\n",
    "data"
   ]
  },
  {
   "cell_type": "code",
   "execution_count": 3,
   "id": "34d01fe1",
   "metadata": {},
   "outputs": [],
   "source": [
    "import pandas as pd\n",
    "api_key=\"13f4bb4da6ef826b2446fb57a46fef8c\"\n",
    "\n",
    "\n",
    "def key(address):\n",
    "    try:\n",
    "        url=\"http://api.openweathermap.org/data/2.5/weather?q={}&APPID={}\".format(address, api_key)\n",
    "    except:\n",
    "        print(\"You entered not a valid address. Address should have a citi name, comma, and two letters of contry code\")\n",
    "    response=requests.get(url) #serialized json data\n",
    "    data=response.json() #desirialized json data\n",
    "    \"\"\" The weather dictionary contains keys-Temperature, Pressure, Humidity,  Temperature minimal,\n",
    "    Temperature maximal, Visibility, Wind speed, and Wind Degree with corresponding values\"\"\"\n",
    "    weather=dict()\n",
    "    list_of_tuples=[(\"Temperature\", data[\"main\"][\"temp\"]),\n",
    "    (\"Pressure\", data[\"main\"][\"pressure\"]),\n",
    "    (\"Humidity\", data[\"main\"][\"humidity\"]),\n",
    "    (\"Temperature minimal\",data[\"main\"][\"temp_min\"]),\n",
    "    (\"Temperature maximal\",data[\"main\"][\"temp_max\"]),\n",
    "    (\"Visibility\", data[\"visibility\"]),\n",
    "    (\"Wind speed\", data[\"wind\"][\"speed\"]),\n",
    "    (\"Wind degree\",data[\"wind\"][\"deg\"])]\n",
    "    weather=dict(list_of_tuples)\n",
    "    df_weather=pd.DataFrame.from_dict(weather, orient=\"index\", columns=[\"weather characteristics\"])\n",
    "    print(\"-\"*40)\n",
    "    print(f\"The weather in location {address}\")\n",
    "    print(\"-\"*40)\n",
    "    return df_weather\n"
   ]
  },
  {
   "cell_type": "code",
   "execution_count": 4,
   "id": "502e34ac",
   "metadata": {},
   "outputs": [
    {
     "name": "stdout",
     "output_type": "stream",
     "text": [
      "Enter a zip code, comma and two letters of country code, or done to exit the program:43212,us\n",
      "----------------------------------------\n",
      "The weather in location 43212,us\n",
      "----------------------------------------\n",
      "                     weather characteristics\n",
      "Temperature                           270.76\n",
      "Pressure                             1027.00\n",
      "Humidity                               71.00\n",
      "Temperature minimal                   269.09\n",
      "Temperature maximal                   272.41\n",
      "Visibility                          10000.00\n",
      "Wind speed                              1.34\n",
      "Wind degree                           330.00\n",
      "The connection to openweathermap is successful!\n",
      "\n",
      "Enter a zip code, comma and two letters of country code, or done to exit the program:92107,us\n",
      "----------------------------------------\n",
      "The weather in location 92107,us\n",
      "----------------------------------------\n",
      "                     weather characteristics\n",
      "Temperature                           285.32\n",
      "Pressure                             1023.00\n",
      "Humidity                               54.00\n",
      "Temperature minimal                   282.80\n",
      "Temperature maximal                   289.80\n",
      "Visibility                          10000.00\n",
      "Wind speed                              0.00\n",
      "Wind degree                             0.00\n",
      "The connection to openweathermap is successful!\n",
      "\n",
      "Enter a zip code, comma and two letters of country code, or done to exit the program:done\n",
      "\n",
      "Thank you for visiting openweathermap.org!\n",
      "Please visit us again!\n"
     ]
    }
   ],
   "source": [
    "\"\"\"The main function(), has no arguments, prompts for a zip code, and two letters country code and pass it to\n",
    "the key(address) function. To exit from the program a user should enter done.\"\"\"\n",
    "\n",
    "def main():\n",
    "    while True:\n",
    "        address=input(\"Enter a zip code, comma and two letters of country code, or done to exit the program:\")\n",
    "\n",
    "        if address==\"done\":\n",
    "            print(\"\\nThank you for visiting openweathermap.org!\\nPlease visit us again!\")\n",
    "            break\n",
    "        else :\n",
    "            try:\n",
    "                print(key(address))\n",
    "\n",
    "                print(\"The connection to openweathermap is successful!\\n\")\n",
    "            except ConnectionError:\n",
    "                print(\"The connection to openweathermap was not successful. Please try again later\")\n",
    "                continue\n",
    "            except:\n",
    "                print(\"You entered not a valid address or done to exit the program\\n\")\n",
    "                continue\n",
    "\n",
    "main()"
   ]
  },
  {
   "cell_type": "code",
   "execution_count": null,
   "id": "12bd8537",
   "metadata": {},
   "outputs": [],
   "source": []
  }
 ],
 "metadata": {
  "kernelspec": {
   "display_name": "Python 3 (ipykernel)",
   "language": "python",
   "name": "python3"
  },
  "language_info": {
   "codemirror_mode": {
    "name": "ipython",
    "version": 3
   },
   "file_extension": ".py",
   "mimetype": "text/x-python",
   "name": "python",
   "nbconvert_exporter": "python",
   "pygments_lexer": "ipython3",
   "version": "3.7.4"
  }
 },
 "nbformat": 4,
 "nbformat_minor": 5
}
